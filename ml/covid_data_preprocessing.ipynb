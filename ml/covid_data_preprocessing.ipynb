{
 "cells": [
  {
   "cell_type": "code",
   "execution_count": 1,
   "metadata": {},
   "outputs": [
    {
     "name": "stderr",
     "output_type": "stream",
     "text": [
      "/Users/shivaharigundeti/anaconda3/envs/time-series-pred/lib/python3.12/site-packages/tqdm/auto.py:21: TqdmWarning: IProgress not found. Please update jupyter and ipywidgets. See https://ipywidgets.readthedocs.io/en/stable/user_install.html\n",
      "  from .autonotebook import tqdm as notebook_tqdm\n"
     ]
    }
   ],
   "source": [
    "import pandas as pd\n",
    "import plotly.express as px\n",
    "import dash\n",
    "from dash import dcc, html\n",
    "from dash.dependencies import Input, Output\n",
    "import os\n",
    "from darts import TimeSeries\n",
    "from darts.models import ExponentialSmoothing\n",
    "from darts.utils.utils import ModelMode, SeasonalityMode\n",
    "\n",
    "\n",
    "file_path = \"../datasets/germ_watch_data/germwatch_covid_hospitalizations_20241029_140153.csv\"\n",
    "covid_df = pd.read_csv(file_path)\n"
   ]
  },
  {
   "cell_type": "code",
   "execution_count": 19,
   "metadata": {},
   "outputs": [
    {
     "data": {
      "text/plain": [
       "array(['PC_CMU', 'MK_Mat2', 'MK_BHU_Peds', 'PC_BHU IP', 'UV_Peds',\n",
       "       'MK_Peds', 'AF_SCN', 'PC_3SE', 'PC_3NW', 'PC_Cncr Trnplt',\n",
       "       'UV_F06 AAU', 'IM_Med Tele', 'AF_Mat', 'PC_3NE', 'SG_Peds',\n",
       "       'PC_3SW', 'PC_2NE', 'MK_Mat1', 'CC_ICU', 'IM_Mat2', 'IM_Mat3',\n",
       "       'PC_RTU', 'SG_Med Ortho', 'LG_NCU', 'GF_ACN', 'SG_LD', 'RV_Peds',\n",
       "       'PC_NTU', 'LD_Mat', 'IM_Surg Trauma', 'UV_Mat', 'PC_PICU',\n",
       "       'CA_Med Surg', 'UV_F08 AAU', 'UV_NICU', 'PC_1NW', 'PC_4NW ICS',\n",
       "       'SG_NICU', 'SG_Med Obs', 'LG_SCU_Peds', 'IM_Ortho', 'CC_Med Surg',\n",
       "       'SG_Mat', 'PK_Med Surg', 'MK_SIMC', 'SP_Med Surg', 'PC_4E NICU',\n",
       "       'MK_Med', 'PC_SS_OR', 'RV_Mat', 'IM_Resp ICU Twr', 'MK_NICU',\n",
       "       'AV_WC_Wmn Nwbrn', 'BR_Med Surg', 'LH_Med Surg', 'DL_Med Surg',\n",
       "       'SF_Mat', 'SG_Surg', 'BR_LD', 'CA_Mat', 'LG_Mat', 'SV_Med Surg',\n",
       "       'LG_MCU', 'PC_2NW PICU', 'SG_Med Onc', 'SG_Rehab', 'PC_SS_PACU',\n",
       "       'LD_ICU', 'PC_CICU', 'FL_Med Surg', 'IM_Med Endo', 'SV_LD',\n",
       "       'LD_Med', 'RV_Med Surg', 'PC_SS_REX', 'PC_SS_SDS', 'PL_PICU',\n",
       "       'PL_Med Surg', 'HV_Med Surg', 'PL_BHU Lehi', 'PL_Obs',\n",
       "       'SG_ICU East Twr', 'AF_Med Surg', 'IM_Thoracic ICU', 'PC_2SW CICU'],\n",
       "      dtype=object)"
      ]
     },
     "execution_count": 19,
     "metadata": {},
     "output_type": "execute_result"
    }
   ],
   "source": [
    "covid_df[\"NURSE_UNIT_DSP\"].unique()"
   ]
  },
  {
   "cell_type": "code",
   "execution_count": 8,
   "metadata": {},
   "outputs": [],
   "source": [
    "file_path = \"../datasets/germ_watch_data/germwatch_influenza_hospitalizations_20241029_135917.csv\"\n",
    "influenza_df = pd.read_csv(file_path)"
   ]
  },
  {
   "cell_type": "code",
   "execution_count": 20,
   "metadata": {},
   "outputs": [
    {
     "data": {
      "text/plain": [
       "array(['PC_IMSU', 'PC_CMU', 'MK_Peds', 'MK_BHU_Peds', 'PC_RTU', 'PC_NTU',\n",
       "       'PC_CSU', 'RV_Peds', 'BR_Med Surg', 'UV_Peds', 'CC_Med Surg',\n",
       "       'PC_Cncr Trnplt', 'DX_4E_Peds', 'RV_Med Surg', 'LG_SCU_Peds',\n",
       "       'SG_Peds', 'SV_Med Surg', 'PC_PICU', 'GF_ACN', 'CC_ICU',\n",
       "       'zzzLAIC_InstaCa', 'DL_Med Surg', 'HV_Med Surg', 'CA_Med Surg',\n",
       "       'MK_NICU', 'SP_Med Surg', 'PC_BHU IP', 'FL_Med Surg', 'PC_CICU',\n",
       "       'SG_ICU East Twr', 'MK_IMC', 'PC_3SE', 'PC_3NW', 'PC_4NW ICS',\n",
       "       'PC_3NE', 'PC_2NE', 'PC_3SW', 'PC_1NW', 'PC_2NW PICU', 'LD_Mat',\n",
       "       'IM_Surg Trauma', 'PC_SS_SDS', 'RV_Mat', 'SV_ED', 'PK_Med Surg',\n",
       "       'PC_SS_PACU', 'PC_4E NICU', 'SG_Med Onc', 'MK_Mat1', 'LD_Surg',\n",
       "       'PC_SS_REX', 'SF_Med Surg', 'PL_Obs', 'PL_Med Surg', 'PL_PICU'],\n",
       "      dtype=object)"
      ]
     },
     "execution_count": 20,
     "metadata": {},
     "output_type": "execute_result"
    }
   ],
   "source": [
    "influenza_df[\"NURSE_UNIT_DSP\"].unique()"
   ]
  },
  {
   "cell_type": "code",
   "execution_count": null,
   "metadata": {},
   "outputs": [],
   "source": []
  }
 ],
 "metadata": {
  "kernelspec": {
   "display_name": "time-series-pred",
   "language": "python",
   "name": "python3"
  },
  "language_info": {
   "codemirror_mode": {
    "name": "ipython",
    "version": 3
   },
   "file_extension": ".py",
   "mimetype": "text/x-python",
   "name": "python",
   "nbconvert_exporter": "python",
   "pygments_lexer": "ipython3",
   "version": "3.12.8"
  }
 },
 "nbformat": 4,
 "nbformat_minor": 2
}
