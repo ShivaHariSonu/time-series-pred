{
 "cells": [
  {
   "cell_type": "code",
   "execution_count": 2,
   "metadata": {},
   "outputs": [
    {
     "name": "stderr",
     "output_type": "stream",
     "text": [
      "/Users/shivaharigundeti/anaconda3/envs/time-series-pred/lib/python3.12/site-packages/tqdm/auto.py:21: TqdmWarning: IProgress not found. Please update jupyter and ipywidgets. See https://ipywidgets.readthedocs.io/en/stable/user_install.html\n",
      "  from .autonotebook import tqdm as notebook_tqdm\n",
      "/var/folders/n7/gd3v0tws03l5q6m7qtmsnqjm0000gn/T/ipykernel_51356/1304730420.py:17: SettingWithCopyWarning: \n",
      "A value is trying to be set on a copy of a slice from a DataFrame\n",
      "\n",
      "See the caveats in the documentation: https://pandas.pydata.org/pandas-docs/stable/user_guide/indexing.html#returning-a-view-versus-a-copy\n",
      "  covid_df_filtered.rename(columns={\"COLLECTED_DTS\": \"DATE\"}, inplace=True)\n",
      "/var/folders/n7/gd3v0tws03l5q6m7qtmsnqjm0000gn/T/ipykernel_51356/1304730420.py:18: SettingWithCopyWarning: \n",
      "A value is trying to be set on a copy of a slice from a DataFrame.\n",
      "Try using .loc[row_indexer,col_indexer] = value instead\n",
      "\n",
      "See the caveats in the documentation: https://pandas.pydata.org/pandas-docs/stable/user_guide/indexing.html#returning-a-view-versus-a-copy\n",
      "  covid_df_filtered['DATE'] = pd.to_datetime(covid_df_filtered['DATE'])\n",
      "/var/folders/n7/gd3v0tws03l5q6m7qtmsnqjm0000gn/T/ipykernel_51356/1304730420.py:19: SettingWithCopyWarning: \n",
      "A value is trying to be set on a copy of a slice from a DataFrame.\n",
      "Try using .loc[row_indexer,col_indexer] = value instead\n",
      "\n",
      "See the caveats in the documentation: https://pandas.pydata.org/pandas-docs/stable/user_guide/indexing.html#returning-a-view-versus-a-copy\n",
      "  covid_df_filtered[\"ADMISSIONS\"] = covid_df_filtered.groupby([\"DATE\", \"ORGANIZATION_NM\", \"CHILDRENS_HOSPITAL\"])[\"EMPI\"].transform('count')\n"
     ]
    }
   ],
   "source": [
    "import pandas as pd\n",
    "import plotly.express as px\n",
    "import dash\n",
    "from dash import dcc, html\n",
    "from dash.dependencies import Input, Output\n",
    "import os\n",
    "from darts import TimeSeries\n",
    "from darts.models import ExponentialSmoothing\n",
    "from darts.utils.utils import ModelMode, SeasonalityMode\n",
    "\n",
    "\n",
    "file_path = \"../datasets/germ_watch_data/germwatch_covid_hospitalizations_20241029_140153.csv\"\n",
    "covid_df = pd.read_csv(file_path)\n",
    "\n",
    "\n",
    "covid_df_filtered = covid_df[[\"EMPI\",\"COLLECTED_DTS\",\"ORGANIZATION_NM\", \"CHILDRENS_HOSPITAL\"]]\n",
    "covid_df_filtered.rename(columns={\"COLLECTED_DTS\": \"DATE\"}, inplace=True)\n",
    "covid_df_filtered['DATE'] = pd.to_datetime(covid_df_filtered['DATE'])\n",
    "covid_df_filtered[\"ADMISSIONS\"] = covid_df_filtered.groupby([\"DATE\", \"ORGANIZATION_NM\", \"CHILDRENS_HOSPITAL\"])[\"EMPI\"].transform('count')\n",
    "\n",
    "org_options = [{'label': org, 'value': org} for org in covid_df_filtered['ORGANIZATION_NM'].unique()]\n",
    "org_options.insert(0, {'label': 'All', 'value': 'All'})\n",
    "\n",
    "hospital_options = [{'label': str(hosp), 'value': hosp} for hosp in covid_df_filtered['CHILDRENS_HOSPITAL'].unique()]\n",
    "hospital_options.insert(0, {'label': 'All', 'value': 'All'})\n",
    "\n",
    "time_options = [{'label':time_format,'value':time_format[0]} for time_format in ['Week','Yearly','Daily']]\n",
    "time_options.insert(0, {'label': 'Month', 'value': 'M'})\n",
    "\n",
    "time_multiplier = {'M':12,'W':52,'Y':1,'D':365}"
   ]
  },
  {
   "cell_type": "code",
   "execution_count": null,
   "metadata": {},
   "outputs": [],
   "source": []
  }
 ],
 "metadata": {
  "kernelspec": {
   "display_name": "time-series-pred",
   "language": "python",
   "name": "python3"
  },
  "language_info": {
   "codemirror_mode": {
    "name": "ipython",
    "version": 3
   },
   "file_extension": ".py",
   "mimetype": "text/x-python",
   "name": "python",
   "nbconvert_exporter": "python",
   "pygments_lexer": "ipython3",
   "version": "3.12.8"
  }
 },
 "nbformat": 4,
 "nbformat_minor": 2
}
